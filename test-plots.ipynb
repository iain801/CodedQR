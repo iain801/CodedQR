{
 "cells": [
  {
   "cell_type": "code",
   "execution_count": null,
   "metadata": {},
   "outputs": [],
   "source": [
    "import sys\n",
    "import pandas as pd\n",
    "import matplotlib.pyplot as plt"
   ]
  },
  {
   "cell_type": "markdown",
   "metadata": {},
   "source": [
    "# Generate dataframe"
   ]
  },
  {
   "cell_type": "code",
   "execution_count": null,
   "metadata": {},
   "outputs": [],
   "source": [
    "inpath = 'data/codedqr-data-3249593.csv'\n",
    "outpath = None\n",
    "\n",
    "if (len(sys.argv) == 3):\n",
    "    inpath = sys.argv[1]\n",
    "    outpath = sys.argv[2]\n",
    "\n",
    "print(f'making plots from {inpath}')\n",
    "\n",
    "# load csv file into a pandas dataframe\n",
    "df = pd.read_csv(inpath)\n",
    "\n",
    "df['total'] = df.iloc[:, 3:].sum(axis=1) - df['recovery']\n",
    "\n",
    "df = df[['n', 'p', 'f', 'recovery','final solve','post-ortho','cs construct','pbmgs','total']]\n",
    "\n",
    "# df.to_csv('data/codedqr-data-3249593.csv', index=False)\n"
   ]
  },
  {
   "cell_type": "markdown",
   "metadata": {},
   "source": [
    "## Total job runtime"
   ]
  },
  {
   "cell_type": "code",
   "execution_count": null,
   "metadata": {},
   "outputs": [],
   "source": [
    "\n",
    "seconds = int(df['total'].sum())\n",
    "mins = seconds // 60\n",
    "hours = mins // 60\n",
    "days = hours // 24\n",
    "seconds %= 60\n",
    "mins %= 60\n",
    "hours %= 24\n",
    "\n",
    "print(f'total execution time: {days}-{hours}:{mins}:{seconds}')\n"
   ]
  },
  {
   "cell_type": "markdown",
   "metadata": {},
   "source": [
    "## Calculate Proportional Overhead and Sums"
   ]
  },
  {
   "cell_type": "code",
   "execution_count": null,
   "metadata": {},
   "outputs": [],
   "source": [
    "\n",
    "# Calculate Tqr for f=0\n",
    "df['tqr'] = df['pbmgs']\n",
    "\n",
    "f_zero_dict = df.loc[df['f'] == 0].set_index(['n', 'p'])['tqr'].to_dict()\n",
    "\n",
    "df.loc[df['f'] != 0, 'tqr'] = df.loc[df['f'] != 0].apply(\n",
    "    lambda row: f_zero_dict.get((row['n'], row['p']), row['tqr']),\n",
    "    axis=1\n",
    ")\n",
    "\n",
    "# Calculate Tcomp\n",
    "df['tcomp'] = df['pbmgs'] - df['tqr']\n",
    "\n",
    "# Take proportions\n",
    "df['encode'] = df['cs construct'] / df['tqr']\n",
    "df['post'] = df['post-ortho'] / df['tqr']\n",
    "df['decode'] = df['recovery'] / df['tqr'] / ( df['p'] + df['f'] )\n",
    "df['comp'] = df['tcomp'] / df['tqr']\n",
    "\n",
    "df['overhead'] = df['comp'] + df['encode'] + df['post']\n",
    "\n",
    "print(df.iloc[:,-5:])"
   ]
  },
  {
   "cell_type": "markdown",
   "metadata": {},
   "source": [
    "## Take averages for all iterations"
   ]
  },
  {
   "cell_type": "code",
   "execution_count": null,
   "metadata": {},
   "outputs": [],
   "source": [
    "config_cols = ['n', 'f', 'p']\n",
    "\n",
    "# df_means = df.groupby(config_cols)[df.columns[3:]].median()\n",
    "# df_std = (df.groupby(config_cols)[df.columns[3:]].quantile(0.75) - df.groupby(config_cols)[df.columns[3:]].quantile(0.25)) / 2\n",
    "\n",
    "# Sort the rows by total within each group\n",
    "df_sorted = df.sort_values(['total']).groupby(config_cols)\n",
    "\n",
    "# Drop the first and last rows from each group\n",
    "df_means = df_sorted.apply(lambda x: x.iloc[:][df.columns[3:]].mean())\n",
    "df_std = df_sorted.apply(lambda x: x.iloc[:][df.columns[3:]].std())\n",
    "\n",
    "print(df_means[:5])\n"
   ]
  },
  {
   "cell_type": "markdown",
   "metadata": {},
   "source": [
    "# Absolute time and overhead over $p$"
   ]
  },
  {
   "cell_type": "code",
   "execution_count": null,
   "metadata": {},
   "outputs": [],
   "source": [
    "markers = ['o', 'x', '*', '^', 'v', 'p', '>', '<', 'D', 'H']\n",
    "\n",
    "for n_val in df['n'].unique():\n",
    "    \n",
    "    n_rows = df_means.query(f\"n == {n_val}\")\n",
    "    n_std = df_std.query(f\"n == {n_val}\")\n",
    "    \n",
    "    fig, (time, overhead) = plt.subplots(1, 2, figsize=(12, 4))\n",
    "    fig.text(0.5,0, f'n={n_val}', size=12, ha=\"center\")\n",
    "    \n",
    "    for i, f_val in enumerate(df['f'].unique()):\n",
    "        \n",
    "        f_rows = n_rows.query(f\"f == {f_val}\")\n",
    "        f_std = n_std.query(f\"f == {f_val}\")\n",
    "                \n",
    "        p_vals = f_rows.index.get_level_values('p')\n",
    "        \n",
    "        marker = markers[i % len(markers)]\n",
    "        \n",
    "        time.errorbar(p_vals, f_rows['total'], yerr=f_std['total'], label=f'f={f_val}', linestyle='--', marker=marker)\n",
    "        overhead.errorbar(p_vals, f_rows['overhead'], yerr=f_std['overhead'], label=f'f={f_val}', linestyle='--', marker=marker)\n",
    "\n",
    "    \n",
    "    time.set_title(f'Execution Time') \n",
    "    time.set_xlabel('p')\n",
    "    time.set_ylabel('Time (s)')\n",
    "    time.legend()\n",
    "    \n",
    "    overhead.set_title(f'Overhead') \n",
    "    overhead.set_xlabel('p')\n",
    "    overhead.set_ylabel('Proportion of Tqr')\n",
    "    overhead.legend()\n",
    "    \n",
    "    fig.show()\n",
    "       "
   ]
  },
  {
   "cell_type": "markdown",
   "metadata": {},
   "source": [
    "# Coding Breakdown over $p$"
   ]
  },
  {
   "cell_type": "code",
   "execution_count": null,
   "metadata": {},
   "outputs": [],
   "source": [
    "for n_val in df['n'].unique():\n",
    "    \n",
    "    n_rows = df_means.query(f\"n == {n_val}\")\n",
    "    # n_rows.drop('n', axis=1, inplace=True)\n",
    "    \n",
    "    fig, (enc, recov, post) = plt.subplots(1, 3, sharey=True, figsize=(15, 4))\n",
    "    fig.text(0.5,-0.1, f'n={n_val}', size=12, ha=\"center\")  \n",
    "  \n",
    "    for i, f_val in enumerate(df['f'].unique()):\n",
    "        \n",
    "        f_rows = n_rows.query(f\"f == {f_val}\")\n",
    "        # f_rows.drop('f', axis=1, inplace=True)\n",
    "        \n",
    "        p_vals = f_rows.index.get_level_values('p')\n",
    "        \n",
    "        marker = markers[i % len(markers)]\n",
    "        \n",
    "        enc.plot(p_vals, f_rows['encode'], label=f'f={f_val}', linestyle='--', marker=marker)\n",
    "        recov.plot(p_vals, f_rows['decode'], label=f'f={f_val}', linestyle='--', marker=marker)\n",
    "        post.plot(p_vals, f_rows['post'], label=f'f={f_val}', linestyle='--', marker=marker)\n",
    "\n",
    "    \n",
    "    enc.set_title(f'Encoding Overhead') \n",
    "    enc.set_xlabel('p')\n",
    "    enc.set_ylabel('Proportion of Tqr')\n",
    "    enc.legend()\n",
    "    \n",
    "    recov.set_title(f'Recovery Overhead')\n",
    "    recov.set_xlabel('p')\n",
    "    \n",
    "    post.set_title(f'Post Orthogonalization Overhead')\n",
    "    post.set_xlabel('p')\n",
    "    \n",
    "    fig.show()\n"
   ]
  },
  {
   "cell_type": "markdown",
   "metadata": {},
   "source": [
    "# Overhead over $f$"
   ]
  },
  {
   "cell_type": "code",
   "execution_count": null,
   "metadata": {},
   "outputs": [],
   "source": [
    "for n_val in df['n'].unique():\n",
    "    \n",
    "    n_rows = df_means.query(f\"n == {n_val}\")\n",
    "    # n_rows.drop('n', axis=1, inplace=True)\n",
    "    \n",
    "    fig, ((overhead, enc), (recov, post)) = plt.subplots(2, 2, figsize=(12, 8))\n",
    "    fig.text(0.5,0.05, f'n={n_val}', size=12, ha=\"center\")\n",
    "    \n",
    "    for i, p_val in enumerate(df['p'].unique()):\n",
    "        \n",
    "        p_rows = n_rows.query(f\"p == {p_val}\")\n",
    "        # f_rows.drop('f', axis=1, inplace=True)\n",
    "        \n",
    "        f_vals = p_rows.index.get_level_values('f')\n",
    "        \n",
    "        marker = markers[i % len(markers)]\n",
    "        \n",
    "        overhead.plot(f_vals, p_rows['overhead'], label=f'p={p_val}', linestyle='--', marker=marker)\n",
    "        enc.plot(f_vals, p_rows['encode'], label=f'p={p_val}', linestyle='--', marker=marker)\n",
    "        recov.plot(f_vals, p_rows['decode'], label=f'p={p_val}', linestyle='--', marker=marker)\n",
    "        post.plot(f_vals, p_rows['post'], label=f'p={p_val}', linestyle='--', marker=marker)\n",
    "\n",
    "    overhead.set_title(f'Overhead')\n",
    "    overhead.set_ylabel('Proportion of Tqr')\n",
    "    overhead.legend()\n",
    "    \n",
    "    enc.set_title(f'Encoding') \n",
    "    \n",
    "    recov.set_title(f'Recovery')\n",
    "    recov.set_xlabel('f')\n",
    "    recov.set_ylabel('Proportion of Tqr')\n",
    "\n",
    "    post.set_title(f'Post Orthogonalization')\n",
    "    post.set_xlabel('f')\n",
    "    \n",
    "    fig.show()"
   ]
  }
 ],
 "metadata": {
  "kernelspec": {
   "display_name": "codedqr",
   "language": "python",
   "name": "python3"
  },
  "language_info": {
   "codemirror_mode": {
    "name": "ipython",
    "version": 3
   },
   "file_extension": ".py",
   "mimetype": "text/x-python",
   "name": "python",
   "nbconvert_exporter": "python",
   "pygments_lexer": "ipython3",
   "version": "3.10.12"
  }
 },
 "nbformat": 4,
 "nbformat_minor": 2
}
